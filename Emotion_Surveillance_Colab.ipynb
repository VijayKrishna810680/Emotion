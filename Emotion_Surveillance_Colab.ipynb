# Emotion Surveillance System (Colab Version)
# Author: Vijay Krishna Tanneeru

# Step 1: Install dependencies
!pip install deepface opencv-python-headless tensorflow==2.11.0 streamlit pandas matplotlib

# Step 2: Upload a video
from google.colab import files
uploaded = files.upload()

# Step 3: Extract frames every 2 mins
import cv2
import os

video_path = list(uploaded.keys())[0]
output_folder = "extracted_frames"
os.makedirs(output_folder, exist_ok=True)

cap = cv2.VideoCapture(video_path)
fps = cap.get(cv2.CAP_PROP_FPS)
frame_interval = int(2 * 60 * fps)  # every 2 minutes
count = 0
saved = 0

while cap.isOpened():
    ret, frame = cap.read()
    if not ret:
        break
    if count % frame_interval == 0:
        filename = os.path.join(output_folder, f"frame_{saved}.jpg")
        cv2.imwrite(filename, frame)
        saved += 1
    count += 1
cap.release()

print(f"{saved} frames saved in {output_folder}")

# Step 4: Analyze emotions
from deepface import DeepFace
import pandas as pd

results = []
for img_file in os.listdir(output_folder):
    if img_file.endswith(".jpg"):
        img_path = os.path.join(output_folder, img_file)
        try:
            analysis = DeepFace.analyze(img_path=img_path, actions=["emotion", "gender"], enforce_detection=False)
            for face in analysis:
                results.append({
                    "image": img_file,
                    "emotion": face["dominant_emotion"],
                    "gender": face["dominant_gender"]
                })
        except Exception as e:
            print(f"Error analyzing {img_file}: {e}")

df = pd.DataFrame(results)
df.to_csv("emotion_report.csv", index=False)
df.head()

# Step 5: Visualize the results
import matplotlib.pyplot as plt

emotion_counts = df["emotion"].value_counts()
gender_counts = df["gender"].value_counts()

plt.figure(figsize=(10, 4))
plt.subplot(1, 2, 1)
emotion_counts.plot(kind="bar", title="Emotion Distribution")
plt.subplot(1, 2, 2)
gender_counts.plot(kind="bar", title="Gender Distribution")
plt.tight_layout()
plt.show()
